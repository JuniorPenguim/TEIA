{
 "cells": [
  {
   "cell_type": "code",
   "execution_count": 53,
   "metadata": {},
   "outputs": [],
   "source": [
    "from sklearn.base import BaseEstimator\n",
    "import numpy as np\n",
    "import matplotlib.pyplot as plt\n",
    "import random as random\n",
    "import pandas as pd"
   ]
  },
  {
   "cell_type": "code",
   "execution_count": 75,
   "metadata": {},
   "outputs": [],
   "source": [
    "class LMSTrainer(BaseEstimator):\n",
    "    def __init__(self, lr=0.01, analitic=False):\n",
    "        self.analitic = analitic\n",
    "        self.lr = lr\n",
    "        self.theta = np.matrix([[1], [1]])\n",
    "        self._trained = False\n",
    "        self.cost_history = []\n",
    "        \n",
    "    def prepare_data(self, X, Y):\n",
    "        X = np.matrix(X)\n",
    "        X = np.concatenate(([[1] for i in range(X.shape[0])], X), axis=1) #Add columns of ones\n",
    "        Y = np.matrix(Y).T #Transpose Y matrix\n",
    "        return (X, Y)\n",
    "        \n",
    "    def gen_random_theta(self, size):\n",
    "        return np.matrix([random.randrange(-2, 2, 1) for i in range(size)]).T\n",
    "        \n",
    "    def test(self, X_test, Y_test):\n",
    "        temp = self.prepare_data(X_test, Y_test)\n",
    "        X_test = temp[0]\n",
    "        Y_test = temp[1]\n",
    "        print('Test error: ', self.cost(X_test, Y_test.T))\n",
    "            \n",
    "    def predict(self, X):\n",
    "        if not self._trained:\n",
    "            raise RuntimeError(\"You must train classifer before predicting data!\")\n",
    "        else:\n",
    "            X = np.matrix(X)\n",
    "            return self.sigmoid(self.theta[0] + X * self.theta[1:])\n",
    "        \n",
    "    def sigmoid(self, scores):\n",
    "        return 1 / (1 + np.exp(-scores))\n",
    "    \n",
    "    def h(self, x):\n",
    "        return x * self.theta\n",
    "\n",
    "    def cost(self, X, Y):\n",
    "        return sum([r[0,0] ** 2 for r in self.h(X) - Y]) / (2 * len(X))\n",
    "    \n",
    "    def fit(self, X, Y):\n",
    "        temp = self.prepare_data(X, Y)\n",
    "        self.X = temp[0]\n",
    "        self.Y = temp[1]\n",
    "        self.theta = self.gen_random_theta(self.X.shape[1])\n",
    "        \n",
    "        if self.analitic:\n",
    "            # Analitic\n",
    "            # (X^T * X)^-1 * X^T * Y\n",
    "            self.theta = np.linalg.pinv(self.X.T.dot(self.X)).dot(self.X.T).dot(self.Y)\n",
    "        else:\n",
    "            # Gradient descent\n",
    "            cost = 0\n",
    "            self.cost_history = []\n",
    "            c = 0\n",
    "            i = 0\n",
    "            #while (abs(self.cost(self.X, self.Y) - cost) > 0.00000001):\n",
    "            while(i < 100000):\n",
    "                scores = self.h(self.X)\n",
    "                predictions = self.sigmoid(scores)\n",
    "                \n",
    "                out = self.Y - predictions\n",
    "                gradient = np.dot(self.X.T, out)\n",
    "                \n",
    "                t = self.lr * gradient\n",
    "                \n",
    "                self.theta = self.theta + t\n",
    "                \n",
    "                \n",
    "                '''\n",
    "                cost = self.cost(self.X, self.Y)\n",
    "                self.cost_history.append(cost)\n",
    "                loss = np.matrix(self.h(self.X) - self.Y)\n",
    "                gradient = self.X.T * loss\n",
    "                print('Cost:\\n', cost, '\\n')\n",
    "                print('X:\\n', self.X, '\\n')\n",
    "                print('Theta(n):\\n', self.theta, '\\n')\n",
    "                print('h(X):\\n', self.h(self.X), '\\n')\n",
    "                print('Y:\\n', self.Y, '\\n')\n",
    "                print('Loss:\\n', loss, '\\n')\n",
    "                print('Gradient:\\n', gradient, '\\n')\n",
    "                '''\n",
    "                #self.theta = self.theta - self.lr * gradient\n",
    "                #print('Theta(n+1):\\n', self.theta, '\\n--------------------------------------------')\n",
    "                i += 1\n",
    "                \n",
    "            print(self.theta)\n",
    "\n",
    "            plt.plot(model.cost_history)\n",
    "            plt.title('Error history')\n",
    "            plt.ylabel('error')\n",
    "            plt.xlabel('iteration')\n",
    "            plt.show()\n",
    "            \n",
    "        self._trained = True\n",
    "        print(\"Theta:\\n\", self.theta, \"\\nTraining error:\\n\", model.cost(self.X, self.Y))\n",
    "\n",
    "    def plot(self, X, Y):\n",
    "        plt.plot(X, self.h(X))\n",
    "        plt.plot(X, Y, 'ro')\n",
    "        plt.show()"
   ]
  },
  {
   "cell_type": "code",
   "execution_count": 76,
   "metadata": {
    "scrolled": false
   },
   "outputs": [
    {
     "name": "stdout",
     "output_type": "stream",
     "text": [
      "[[-21.0330203 ]\n",
      " [  8.48391161]]\n"
     ]
    },
    {
     "data": {
      "image/png": "[encoded data removed]",
      "text/plain": [
       "<Figure size 432x288 with 1 Axes>"
      ]
     },
     "metadata": {
      "needs_background": "light"
     },
     "output_type": "display_data"
    },
    {
     "name": "stdout",
     "output_type": "stream",
     "text": [
      "Theta:\n",
      " [[-21.0330203 ]\n",
      " [  8.48391161]] \n",
      "Training error:\n",
      " 40.920759254801425\n"
     ]
    }
   ],
   "source": [
    "file = pd.read_csv(\"datasets/data_set.csv\", delimiter=\";\", decimal=\",\")\n",
    "data = np.matrix(file.values)\n",
    "\n",
    "# X\n",
    "trainX = np.matrix([[1], [2], [3], [4]])\n",
    "#trainX = np.matrix([[1], [3], [1], [3], [5]])\n",
    "#trainX = np.matrix([[1, 2], [3, 1], [4, 2]]) # f(x) = 4x - 3x - 2\n",
    "#trainX = data[:,:data.shape[1] - 1] # Data from data_set\n",
    "# Y\n",
    "trainY = np.matrix([0, 0, 1, 1])\n",
    "#trainY = np.matrix([1, 1, 4, 4, 5])\n",
    "#trainY = np.matrix([-4, 7, 8])\n",
    "#print(trainY.T)\n",
    "\n",
    "#print('trainX:\\n', trainX, '\\ntrainY:\\n', trainY)\n",
    "\n",
    "model = LMSTrainer(analitic=False)\n",
    "model.theta = np.matrix([[1], [1]])\n",
    "model.fit(trainX, trainY)\n"
   ]
  },
  {
   "cell_type": "code",
   "execution_count": 80,
   "metadata": {
    "scrolled": false
   },
   "outputs": [
    {
     "data": {
      "text/plain": [
       "matrix([[7.33627069e-10]])"
      ]
     },
     "execution_count": 80,
     "metadata": {},
     "output_type": "execute_result"
    }
   ],
   "source": [
    "model.predict([0])"
   ]
  }
 ],
 "metadata": {
  "kernelspec": {
   "display_name": "Python 3",
   "language": "python",
   "name": "python3"
  },
  "language_info": {
   "codemirror_mode": {
    "name": "ipython",
    "version": 3
   },
   "file_extension": ".py",
   "mimetype": "text/x-python",
   "name": "python",
   "nbconvert_exporter": "python",
   "pygments_lexer": "ipython3",
   "version": "3.7.1"
  }
 },
 "nbformat": 4,
 "nbformat_minor": 2
}
