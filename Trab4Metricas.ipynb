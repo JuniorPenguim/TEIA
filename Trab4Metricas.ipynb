{
 "cells": [
  {
   "cell_type": "markdown",
   "metadata": {},
   "source": [
    "# Métricas de Classificação"
   ]
  },
  {
   "cell_type": "code",
   "execution_count": 2,
   "metadata": {
    "collapsed": false
   },
   "outputs": [],
   "source": [
    "import numpy as np\n",
    "import math\n",
    "\n",
    "\n",
    "def confusion_matrix(reais, preditos, labels):\n",
    "   \n",
    " \n",
    "    # considerando a primeira classe como a positiva, e a segunda a negativa\n",
    "    true_class = labels[0]\n",
    "    negative_class = labels[1]\n",
    "\n",
    "    # valores preditos corretamente\n",
    "    truePositive = 0\n",
    "    trueNegative = 0\n",
    "    \n",
    "    # valores preditos incorretamente\n",
    "    falsePositive = 0\n",
    "    falseNegative = 0\n",
    "    \n",
    "    for (indice, v_real) in enumerate(reais):\n",
    "        v_predito = preditos[indice]\n",
    "\n",
    "        # se trata de um valor real da classe positiva\n",
    "        if v_real == true_class:\n",
    "            truepositive += 1 if v_predito == v_real else 0\n",
    "            falsepositive += 1 if v_predito != v_real else 0\n",
    "        else:\n",
    "            truenegative += 1 if v_predito == v_real else 0\n",
    "            falseNegative += 1 if v_predito != v_real else 0\n",
    "    \n",
    "    return np.array([\n",
    "        # valores da classe positiva\n",
    "        [ truepositive, falsepositive ],\n",
    "        # valores da classe negativa\n",
    "        [ falseNegative, truenegative ]\n",
    "    ])\n",
    "\n",
    "\n",
    "def acuracia():\n",
    "    total = truePositive + trueNegative + falsePositive + falseNegative\n",
    "    (truePositive + trueNegative) / total\n",
    "\n",
    "\n",
    "def f1Score():\n",
    "    2 * (precision * recall) / (precision + recall)\n",
    "\n",
    "def precisao():\n",
    "    (truePositive) / truePositive + falsePositive\n",
    "\n",
    "def recall():\n",
    "    (truePositive) / truePositive + falseNegative\n",
    "\n",
    "\n",
    "\n",
    "\n"
   ]
  },
  {
   "cell_type": "markdown",
   "metadata": {},
   "source": [
    "# Métricas de Regressão"
   ]
  },
  {
   "cell_type": "code",
   "execution_count": null,
   "metadata": {
    "collapsed": true
   },
   "outputs": [],
   "source": [
    "from sklearn import linear_model\n",
    "\n",
    "def mae():\n",
    "    lm = linear_model.LinearRegression()\n",
    "    lm.fit(X, sales)\n",
    "\n",
    "    mae_sum = 0\n",
    "    for sale, x in zip(sales, X):\n",
    "        prediction = lm.predict(x)\n",
    "    mae_sum += abs(sale - prediction)\n",
    "        mae = mae_sum / len(sales)\n",
    "        \n",
    "def mse():\n",
    "    mse_sum = 0\n",
    "    for sale, x in zip(sales, X):\n",
    "        prediction = lm.predict(x)\n",
    "    mse_sum += (sale - prediction)**2\n",
    "        mse = mse_sum / len(sales)\n",
    "\n",
    "def mape():\n",
    "    mape_sum = 0\n",
    "    for sale, x in zip(sales, X):\n",
    "        prediction = lm.predict(x)\n",
    "    mape_sum += (abs((sale - prediction))/sale)\n",
    "        mape = mape_sum/len(sales)\n",
    "\n",
    "\n"
   ]
  }
 ],
 "metadata": {
  "anaconda-cloud": {},
  "kernelspec": {
   "display_name": "Python [conda root]",
   "language": "python",
   "name": "conda-root-py"
  },
  "language_info": {
   "codemirror_mode": {
    "name": "ipython",
    "version": 3
   },
   "file_extension": ".py",
   "mimetype": "text/x-python",
   "name": "python",
   "nbconvert_exporter": "python",
   "pygments_lexer": "ipython3",
   "version": "3.5.2"
  }
 },
 "nbformat": 4,
 "nbformat_minor": 1
}
